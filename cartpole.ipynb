{
 "cells": [
  {
   "cell_type": "markdown",
   "metadata": {},
   "source": [
    "## Deep Q Learning aplicado al juego Cart Pole"
   ]
  },
  {
   "cell_type": "code",
   "execution_count": 8,
   "metadata": {},
   "outputs": [],
   "source": [
    "import gymnasium as gym\n",
    "import math\n",
    "import random\n",
    "import matplotlib\n",
    "import matplotlib.pyplot as plt\n",
    "from collections import namedtuple, deque\n",
    "from itertools import count\n",
    "\n",
    "import torch\n",
    "import torch.nn as nn\n",
    "import torch.optim as optim\n",
    "import torch.nn.functional as F"
   ]
  },
  {
   "cell_type": "code",
   "execution_count": 9,
   "metadata": {},
   "outputs": [
    {
     "name": "stdout",
     "output_type": "stream",
     "text": [
      "Dispositivo utilizado: cpu\n"
     ]
    }
   ],
   "source": [
    "# Cargar el entorno\n",
    "env = gym.make('CartPole-v1')\n",
    "\n",
    "# Configurar matplotlib\n",
    "is_ipython = 'inline' in matplotlib.get_backend() # Verifica si el backend de matplotlib es 'inline' para mostrar los gráficos dentro del propio notebook\n",
    "if is_ipython:\n",
    "    from IPython import display # Permite mostrar y actualizar gráficos en línea\n",
    "plt.ion() # Activa el modo interactivo de matplotlib, permitiendo actualizar los gráficos de forma dinámica sin llamar a show()\n",
    "\n",
    "# Chequear dispisitivo a usar\n",
    "device = torch.device('cuda' if torch.cuda.is_available() else\n",
    "                      'mps' if torch.backends.mps.is_available() else\n",
    "                      'cpu')\n",
    "print(f'Dispositivo utilizado: {device}')"
   ]
  },
  {
   "cell_type": "markdown",
   "metadata": {},
   "source": [
    "#### Replay Memory\n",
    "Se va a utilizar una repetición de memorias para entrenar la red neuronal (DQN). Se irán almacenando las transiciones observadas por el agente, permitiendo reutilizar esos datos más tarde. A partir de un muestreo aleatorio, las transiciones de cada lote está decorrelacionadas, mejorando la estabilidad y eficiencia del modelo."
   ]
  },
  {
   "cell_type": "code",
   "execution_count": 10,
   "metadata": {},
   "outputs": [],
   "source": [
    "# Namedtuple --> Subclase de tupla que permite nombrar cada posición\n",
    "# En este caso se mapean pares (estado, acción) con su resultado (proximo estado, recompensa)\n",
    "Transition = namedtuple('Transition', ('state', 'action', 'next_state', 'reward'))\n",
    "\n",
    "# Búfer cíclico que almacena las transiciones observadas recientemente\n",
    "class ReplayMemory(object):\n",
    "\n",
    "    # Crea un deque (estructura de datos que permite quitar/añadir datos desde ambos extremos) con un tamaño máximo (capacity)\n",
    "    # Elimina la transición más antigua al añadir una nueva cuando se alcanza el límite de capacidad\n",
    "    def __init__(self, capacity):\n",
    "        self.memory = deque([], maxlen=capacity)\n",
    "\n",
    "    # Guarda una transición con todos sus argumentos ('state', 'action', 'next_state', 'reward')\n",
    "    def push(self, *args):\n",
    "        self.memory.append(Transition(*args))\n",
    "\n",
    "    # Selecciona un batch aleatorio de transiciones para entrenamiento\n",
    "    def sample(self, batch_size):\n",
    "        return random.sample(self.memory, batch_size)\n",
    "    \n",
    "    # Devuelve el tamaño de la memoria (cantidad de transiciones)\n",
    "    def __len__(self):\n",
    "        return len(self.memory)"
   ]
  },
  {
   "cell_type": "markdown",
   "metadata": {},
   "source": [
    "#### Q-network\n",
    "El modelo sera una red neuronal feed-forward (avance directo) que recibe la diferencia entre el parche visual de la pantalla actual y el de la anterior. Devuelve dos outputs ``Q(s, left)`` y ``Q(s, right)``, siendo ``s`` el input a la red. Lo que trata de predecir es el resultado de elegir cada opción (izq o dcha) según el input (s) que recibe."
   ]
  },
  {
   "cell_type": "code",
   "execution_count": 11,
   "metadata": {},
   "outputs": [],
   "source": [
    "class DQN(nn.Module):\n",
    "\n",
    "    # Constructor. El modelo recibe una serie de observaciones y devuelve una serie de acciones\n",
    "    def __init__(self, n_observations, n_actions):\n",
    "        super(DQN, self).__init__() # Llamada a la clase base nn.Module (necesario en PyTorch)\n",
    "        self.layer1 = nn.Linear(n_observations, 128)\n",
    "        self.layer2 = nn.Linear(128, 128)\n",
    "        self.layer3 = nn.Linear(128, n_actions)\n",
    "\n",
    "    # Llama al modelo con un elemento o un batch para determinar la siguiente acción\n",
    "    def forward(self, x):\n",
    "        x = F.relu(self.layer1(x))\n",
    "        x = F.relu(self.layer2(x))\n",
    "        return self.layer3(x)"
   ]
  },
  {
   "cell_type": "markdown",
   "metadata": {},
   "source": [
    "#### Entrenamiento\n",
    "Se instancian el modelo y su optimizador, definiendo también algunas utilidades. La función ``select_action`` elige una acción de acuerdo a una política Epsilon-Greedy: balancea **exploración** (probabilidad *epsilon*) eligiendo una acción aleatoria y **explotación** (probabilidad *1 - epsilon*) eligiendo la mejor acción conocida hasta el momento.  \n",
    "En resumen, en algunas ocasiones se utilizará el modelo para elegir una acción, y en otras se seleccionará una al azar. La probabilidad de elegir una acción aleatoria comienza en ``EPS_START`` y va decayendo exponencialmente hacia ``EPS_END``.  \n",
    "\n",
    "La función ``plot_durations`` grafica la duración de los episodios junto con un promedio de los 100 últimos. Cada episodio es una instancia en la que el agente interactúa con el entorno, desde el estado inicial hasta un estado final. En el juego del Cart Pole, el episodio termina cuando el palo cae.\n",
    "\n",
    "Respecto a ``γ (gamma)``, un valor más cercano a 1 significa que el agente da la misma importancia a las recompensas futuras que a las inmediatas. Cuanto más bajo sea gamma, menos peso se da a las recompensas futuras y más a las inmediatas.  \n",
    "\n",
    "En cuanto a ``τ (tau)``, controla la tasa de actualización de la red objetivo. En algoritmos como DQN se suelen utilizar dos redes neuronales: la de **red de evaluación**, aquella que se entrena y toma decisiones, y la **red objetivo**, una copia que se actualiza con menos frecuencia y se utiliza para calcular las recompensas objetivo de forma más estable.\n",
    "Existen dos formas de actualizar la red objetivo:  \n",
    "*Actualización completa y poco frecuente* --> Cada ciertos pasos copia los pesos de la red de evaluación.  \n",
    "*Actualización suave (TAU)* --> Después de cada paso interpola sus pesos actuales y los de la red de evaluación. Con TAU más cerca de 1 el cambio es casi inmediato, y cuanto más cerca de 0 más lento es el cambio, siendo más estable.\n"
   ]
  },
  {
   "cell_type": "code",
   "execution_count": 12,
   "metadata": {},
   "outputs": [
    {
     "name": "stdout",
     "output_type": "stream",
     "text": [
      "Acciones posibles: 2 (izquierda y derecha)\n",
      "Observaciones de cada estado: 4\n"
     ]
    }
   ],
   "source": [
    "BATCH_SIZE = 128 # Número de transiciones muestreadas desde el búfer de repetición\n",
    "GAMMA = 0.99 # Factor de descuento (entre 0 y 1)\n",
    "EPS_START = 0.9 # Valor inicial de epsilon (probabilidad de elegir una acción aleatoria)\n",
    "EPS_END = 0.05 # Valor final de epsilon\n",
    "EPS_DECAY = 1000 # Contorla el descenso exponencial de epsilon. Más alto significa un descenso más lento.\n",
    "TAU = 0.005 # Tasa de actualización de la red objetivo\n",
    "LR = 1e-4 # Tasa de aprendizaje del optimizador AdamW\n",
    "\n",
    "# Obtener el número de acciones posibles para el entorno creado\n",
    "n_actions = env.action_space.n\n",
    "print(f'Acciones posibles: {n_actions} (izquierda y derecha)')\n",
    "\n",
    "# Obtener el número de observaciones de estado (cantidad de parámetros que describen el estado actual --> posiciones, velocidades, ángulos...)\n",
    "state, info = env.reset()\n",
    "n_observations = len(state)\n",
    "print(f'Observaciones de cada estado: {n_observations}')\n",
    "\n",
    "# Instanciar la red de evaluación (policy) y la red objetivo (target)\n",
    "policy_net = DQN(n_observations, n_actions).to(device)\n",
    "target_net = DQN(n_observations, n_actions).to(device)\n",
    "target_net.load_state_dict(policy_net.state_dict()) # Copia los pesos de la red principal en la red objetivo\n",
    "\n",
    "# Cargar el optimizador y la memoria de transiciones que se va a utilizar\n",
    "optimizer = optim.AdamW(policy_net.parameters(), lr=LR, amsgrad=True) # Habilita la variante AMSGrad para problemas de convergencia\n",
    "memory = ReplayMemory(10000)\n",
    "\n",
    "# Inicializar los pasos\n",
    "steps_done = 0\n",
    "\n",
    "def select_action(state):\n",
    "    global steps_done\n",
    "    sample = random.random() # Número aleatorio entre 0 y 1\n",
    "\n",
    "    # Determina la probabilidad de elegir entre exploración o explotación\n",
    "    eps_threshold = EPS_END + (EPS_START - EPS_END) * math.exp(-1 * steps_done / EPS_DECAY) # math --> e elevado a -(steps_done/EPS_DECAY)\n",
    "\n",
    "    steps_done += 1\n",
    "\n",
    "    # Si sample es mayor que eps_threshold, el agente explota (mejor acción aprendida)\n",
    "    if sample > eps_threshold:\n",
    "        with torch.no_grad(): # Desactiva el cálculo de gradientes, solo se necesita que el modelo tome una decisión\n",
    "            # Evalúa para el estado actual\n",
    "            # Devuelve el índice de la acción con el mayor valor Q\n",
    "            # Reestructura el tensor a 2 dimensiones (1 fila, 1 columna)\n",
    "            return policy_net(state).max(1).indices.view(1, 1)\n",
    "        \n",
    "    # Si sample es igual o menor al threshold, el agente explora (acción aleatoria)\n",
    "    else:\n",
    "        # Genera una acción aleatoria dentro del espacio de acciones del entorno (env)\n",
    "        # Almacena el tensor en el dispositivo\n",
    "        # Define el tipo de datos como long (adecuado para índices de acciones)\n",
    "        return torch.tensor([[env.action_space.sample()]], device=device, dtype=torch.long)\n",
    "\n",
    "# Lista para guardar la duración de cada episodio (medida en número de acciones)\n",
    "episode_durations = []\n",
    "\n",
    "def plot_durations(show_result=False):\n",
    "    plt.figure(1)\n",
    "    durations_t = torch.tensor(episode_durations, dtype=torch.float) # Crea un tensor de tipo float siguiendo la lista previa\n",
    "    if show_result:\n",
    "        plt.title('Result')\n",
    "    else:\n",
    "        plt.clf() # Limpia el contenido actual de la figura\n",
    "        plt.title('Training...')\n",
    "    \n",
    "    plt.xlabel('Episode')\n",
    "    plt.ylabel('Duration')\n",
    "    plt.plot(durations_t.numpy()) # Grafica el tensor en forma de array de NumPy (requisito)\n",
    "\n",
    "    # Tomar las medias de 100 episodios y también graficarlas\n",
    "    if len(durations_t) >= 100:\n",
    "        # Crea ventanas de tamaño 100 avanzando de 1 en 1. Ej len(durations_t) = 102 --> [[1, 2, 3...100], [2, 3, 4...101], [3, 4, 5...102]]; 3 ventanas\n",
    "        # Calcula la media para cada ventana\n",
    "        # Aplana el tensor resultante a una sola dimensión\n",
    "        means = durations_t.unfold(0, 100, 1).mean(1).view(-1)\n",
    "\n",
    "        # Crea un tensor de ceros de tamaño 99\n",
    "        # Concatena el tensor means: [0, 0, 0, 0..., 50.5, 51, 54.3, ...]\n",
    "        # Al calcular los promedios a partir de 100 episodios, es necesario generar las de los primeros 99\n",
    "        # para que los índices vayan alineados con los episodios originales\n",
    "        # Del 1 al 99 --> 0; A partir del 100 --> means\n",
    "        means = torch.cat((torch.zeros(99), means))\n",
    "\n",
    "        plt.plot(means.numpy())\n",
    "\n",
    "    plt.pause(0.001) # Pausa un instante para actualizar los gráficos\n",
    "\n",
    "    # Verifica si estamos en un entorno Python (hecho previamente)\n",
    "    if is_ipython:\n",
    "        # Modo entrenamiento\n",
    "        if not show_result:\n",
    "            display.display(plt.gcf()) # Obtiene la figura actual y la muestra en la celda\n",
    "            display.clear_output(wait=True) # Limpia la salida anterior, dejando espacio para la siguiente\n",
    "        else:\n",
    "            display.display(plt.gcf())"
   ]
  },
  {
   "cell_type": "markdown",
   "metadata": {},
   "source": [
    "#### Bucle de entrenamiento\n",
    "La función ``optimize_model`` primero toma una muestra de un batch, concatena todos los tensores en uno más grande, calcula ``Q`` usando la **red policy** y ``V`` (función de valor - esperado de recompensa futura) usando la **red target** y los combina en la función de pérdida.  \n",
    "En resumen, el proceso es el siguiente:  \n",
    "  - La red principal (policy) toma el estado actual ``s`` y predice ``Q(s, a)`` para cada posible acción.\n",
    "  - Tras realizar una acción ``a`` y recibir una recompensa ``r``, llega a un nuevo estado ``s'``.\n",
    "  - La red objetivo (target) calcula el valor máximo entre todas las posibles acciones para ``s'``: ``max Qtarget(s', a)``.\n",
    "  - La red objetivo calcula el **valor objetivo** para ``s`` utilizando el nuevo estado ``s'``: ``target = r + γ * max Qtarget(s', a)``.\n",
    "  - La red principal ajusta sus predicciones para ``s`` (estado anterior) mediante la **función de pérdida**: diferencia entre ``Q(s, a)`` y el **valor objetivo**.\n",
    "  - Se repite el proceso hasta el final del episodio.\n",
    "La **red objetivo** se usa únicamente para calcular el valor objetivo de ``s`` usando el valor máximo en el estado ``s'``. Se actualiza suavemente utilizando ``τ (TAU)`` o cada ciertos paso, en línea con la red principal. Esto da estabilidad al entrenamiento y evita grandes oscilaciones en el aprendizaje.\n",
    "\n",
    "**Nota**: Antes de empezar el entrenamiento el agente ha interactuado con el entorno, generando con cada interacción una ``transición (state, action, next_state, reward)``. Estas transiciones se van guardando en la ``memory`` y son luego utilizadas para el entrenamiento en batches."
   ]
  },
  {
   "cell_type": "code",
   "execution_count": 13,
   "metadata": {},
   "outputs": [],
   "source": [
    "def optimize_model():\n",
    "    # Comprueba que al menos se puede obtener un lote de la memoria\n",
    "    if len(memory) < BATCH_SIZE:\n",
    "        return\n",
    "    \n",
    "    # Obtiene una muestra del tamaño fijado para los lotes\n",
    "    transitions = memory.sample(BATCH_SIZE)\n",
    "\n",
    "    # Convierte la muestra obtenida en una muestra de transiciones (state, action, next_state, reward)\n",
    "    # Se almacenan de forma que batch.state contiene todos los estados, batch.action todas las acciones, etc.\n",
    "    batch = Transition(*zip(*transitions))\n",
    "\n",
    "    # Verifica si cada next_state es diferente de None, devolviendo un tensor con valores True y False\n",
    "    non_final_mask = torch.tensor(tuple(map(lambda s: s is not None,\n",
    "                                            batch.next_state)), device=device, dtype=torch.bool)\n",
    "    \n",
    "    # Crea un tensor y agrupa todos los next_state que no son None (no son estados finales)\n",
    "    non_final_next_states = torch.cat([s for s in batch.next_state if s is not None])\n",
    "\n",
    "    # Concatena los tensores de estados, acciones y recompensas para crear lotes y poder procesar varios en paralelo\n",
    "    state_batch = torch.cat(batch.state)\n",
    "    action_batch = torch.cat(batch.action)\n",
    "    reward_batch = torch.cat(batch.reward)\n",
    "\n",
    "    # Pasa el lote de estados a la red principal, que calcula Q para todas las acciones posibles (tensor imaginario Q_values: [[1.2, 0.5], [0.8, -1.0], [2.0, 1.3], etc...)\n",
    "    # Gather recoge los valores Q para las acciones que realmente se tomaron durante las transiciones (action_batch: [[0], [0], [1], [0], [1], etc...])\n",
    "    # Se pone 1 porque action_batch es un tensor 2d donde las acciones se guardan en la segunda dimensión\n",
    "    # Al final se obtiene un tensor con el valor Q para cada acción tomada (state_action_values: [[1.2], [0.8], [1.3], etc...])\n",
    "    state_action_values = policy_net(state_batch).gather(1, action_batch)\n",
    "\n",
    "    # Crea un tensor de ceros del tamaño del batch para ir calculando V = max Qtarget(s', a)\n",
    "    next_state_values = torch.zeros(BATCH_SIZE, device=device)\n",
    "\n",
    "    # Solo se calcula V para los estados que no son finales, el resto quedan como 0\n",
    "    # Se utiliza la red objetivo para calcular V en los estados que no son finales (si es final ya no hay next_state, claro)\n",
    "    with torch.no_grad():\n",
    "        next_state_values[non_final_mask] = target_net(non_final_next_states).max(1).values\n",
    "    \n",
    "    # Calcula el valor objetivo (target = r + gamma * max Qtarget(s', a))\n",
    "    expected_state_action_values = reward_batch + GAMMA * next_state_values\n",
    "\n",
    "    # Instanciar la función de pérdida (Huber Loss) que mide la diferencia entre dos tensores\n",
    "    # En errores pequeños la pérdida es cuadrática (MSE) y en errores grandes es lineal\n",
    "    # Se utiliza unsqueeze para añadir una dimensión extra y que ambos tensores coincidan: (batch_size, 1)\n",
    "    criterion = nn.SmoothL1Loss()\n",
    "    loss = criterion(state_action_values, expected_state_action_values.unsqueeze(1))\n",
    "\n",
    "    # Optimiza la red principal (optimizer asociado a policy_net) reseteando a cero los gradientes y los calcula de nuevo usando backpropagation\n",
    "    optimizer.zero_grad()\n",
    "    loss.backward()\n",
    "\n",
    "    # Aplica \"clipping de gradientes\" a los parámetros de la red, limitando sus valores absolutos a un máximo de 100\n",
    "    # Si el gradiente es menor que 100 se queda como está, y si es mayor se cambia a 100\n",
    "    # Después actualiza los parámetros\n",
    "    torch.nn.utils.clip_grad_value_(policy_net.parameters(), 100)\n",
    "    optimizer.step()"
   ]
  },
  {
   "cell_type": "markdown",
   "metadata": {},
   "source": [
    "#### Comenzar a entrenar\n",
    "Se resetea el entorno para obtener el ``estado`` inicial (en teoría con el palo en vertical). Después se ejecuta una ``acción`` y se observa el ``siguiente estado`` y la ``recompensa``. La recompensa está fijada **siempre** como **1**, independientemente de la acción (el objetivo es que el agente maximice la duración del episodio, por cada movimiento que aguanta con el palo sin caerse suma 1 punto).\n",
    "Después del primer paso se **optimiza** el modelo. Cuando termina el episodio (el palo cae) se reinicia el loop."
   ]
  },
  {
   "cell_type": "code",
   "execution_count": null,
   "metadata": {},
   "outputs": [
    {
     "name": "stdout",
     "output_type": "stream",
     "text": [
      "Complete\n"
     ]
    },
    {
     "data": {
      "image/png": "[encoded data removed]",
      "text/plain": [
       "<Figure size 640x480 with 1 Axes>"
      ]
     },
     "metadata": {},
     "output_type": "display_data"
    },
    {
     "data": {
      "text/plain": [
       "<Figure size 640x480 with 0 Axes>"
      ]
     },
     "metadata": {},
     "output_type": "display_data"
    },
    {
     "data": {
      "text/plain": [
       "<Figure size 640x480 with 0 Axes>"
      ]
     },
     "metadata": {},
     "output_type": "display_data"
    }
   ],
   "source": [
    "# Fija 600 episodios si hay una GPU disponible, si no lo deja en 50\n",
    "if torch.cuda.is_available() or torch.backends.mps.is_available():\n",
    "    num_episodes = 600\n",
    "else:\n",
    "    num_episodes = 50\n",
    "\n",
    "for i_episode in range(num_episodes):\n",
    "    # Inicializar el entorno y obtener el estado inicial\n",
    "    state, info = env.reset()\n",
    "    state = torch.tensor(state, dtype=torch.float32, device=device).unsqueeze(0) # Añade una dimensión en el eje 0: (state,) --> (1, state)\n",
    "\n",
    "    for t in count(): # Crea un bucle infinito\n",
    "        action = select_action(state) # Elegir una acción para el estado actual\n",
    "\n",
    "        # Ejecuta la acción y devuelve esas variables\n",
    "        # Terminated (bool) indica si el episodio ha llegado a un estado terminal (se cayó el palo)\n",
    "        # Truncated (bool) indica si el episodio se ha interrumpido sin llegar al estado final (alcanza el límite de pasos sin tirar el palo)\n",
    "        observation, reward, terminated, truncated, _ = env.step(action.item())\n",
    "\n",
    "        reward = torch.tensor([reward], device=device) # Crea un tensor con las recompensas y lo pasa al dispositivo\n",
    "        done = terminated or truncated # Marcador de si ha terminado el episodio con este paso\n",
    "\n",
    "        # Si no ha terminado (por fallo) se carga el next_state según las observaciones\n",
    "        if terminated:\n",
    "            next_state = None\n",
    "        else:\n",
    "            next_state = torch.tensor(observation, dtype=torch.float32, device=device).unsqueeze(0)\n",
    "\n",
    "        # Almacenar toda esta transición en la memoria, avanzar al siguiente estado y optimizar la red policy\n",
    "        memory.push(state, action, next_state, reward)\n",
    "        state = next_state\n",
    "        optimize_model()\n",
    "\n",
    "        # Actualización suave de la red target\n",
    "        target_net_state_dict = target_net.state_dict()\n",
    "        policy_net_state_dict = policy_net.state_dict()\n",
    "        for key in policy_net_state_dict:\n",
    "            target_net_state_dict[key] = policy_net_state_dict[key] * TAU + target_net_state_dict[key] * (1 - TAU) # Aplica la fórmula: θ′ = θ * τ + θ′ * (1 − τ)\n",
    "        \n",
    "        # Chequea si acabó el episodio\n",
    "        # Si es así, añade la duración a la lista de duraciones y grafica\n",
    "        if done:\n",
    "            episode_durations.append(t + 1)\n",
    "            plot_durations()\n",
    "            break\n",
    "\n",
    "print('Complete')\n",
    "plot_durations(show_result=True) # Maca True para que pinte 'Result' en vez de 'Training'\n",
    "plt.ioff() # Desactiva las gráficas interactivas, teniendo que llamar a show() para pintar\n",
    "plt.show()"
   ]
  }
 ],
 "metadata": {
  "kernelspec": {
   "display_name": ".venv_deepq",
   "language": "python",
   "name": "python3"
  },
  "language_info": {
   "codemirror_mode": {
    "name": "ipython",
    "version": 3
   },
   "file_extension": ".py",
   "mimetype": "text/x-python",
   "name": "python",
   "nbconvert_exporter": "python",
   "pygments_lexer": "ipython3",
   "version": "3.12.4"
  }
 },
 "nbformat": 4,
 "nbformat_minor": 2
}
